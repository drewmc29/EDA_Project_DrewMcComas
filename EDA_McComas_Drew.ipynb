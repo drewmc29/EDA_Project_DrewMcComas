{
  "nbformat": 4,
  "nbformat_minor": 0,
  "metadata": {
    "colab": {
      "name": "EDA_McComas_Drew",
      "provenance": [],
      "collapsed_sections": []
    },
    "kernelspec": {
      "name": "python3",
      "display_name": "Python 3"
    }
  },
  "cells": [
    {
      "cell_type": "markdown",
      "metadata": {
        "id": "QEeY8reP-8Q_"
      },
      "source": [
        "In this assignment you can identify a dataset of your interest and perform exploratory data analysis to better understand the data, investigate initial questions about it and develop preliminary insights and hypotheses. Your final submission will be a blog post consisting of a series of captioned visualizations that convey the key insights gained over the course of your analysis. You need to post the blog to medium or your github website.\n",
        "\n",
        "Documenting the data analysis process you went through is the main pedagogical goal of the assignment and more important than the design of the final visualization.\n",
        "\n",
        "We will go over the details of the project during class hours next week."
      ]
    },
    {
      "cell_type": "markdown",
      "metadata": {
        "id": "40FjLaUS_Rui"
      },
      "source": [
        "##**Part 1: Select and Prepare the Data**"
      ]
    },
    {
      "cell_type": "markdown",
      "metadata": {
        "id": "Mu120a3d_SnY"
      },
      "source": [
        "You should start by picking a topic area of interest to you and finding a dataset that can provide insights into that topic. We have provided some datasets below that you can start from. But we encourage you to investigate a different topic and dataset. If you self-select a dataset and are concerned about its appropriateness for the assignment, you can check with the TAs regarding the same.\n",
        "\n",
        "**Note:** The data collection and preparation (also known as data wrangling) can be a very tedious and time-consuming process. Be sure you have sufficient time to conduct exploratory analysis, after preparing the data.\n",
        "\n",
        "After selecting a topic and dataset – but prior to analysis – you should write down an initial set of at least three questions you’d like to investigate."
      ]
    },
    {
      "cell_type": "markdown",
      "metadata": {
        "id": "_97-jxLqB9NI"
      },
      "source": [
        "## **Part 2: Exploratory Analysis**"
      ]
    },
    {
      "cell_type": "markdown",
      "metadata": {
        "id": "rCbLzkhhCB14"
      },
      "source": [
        "Once you have picked the dataset and performed the initial data wrangling, you will perform exploratory analysis to investigate your data. For this assignment we would like you to use Pandas, NumPy and matplotlib to help you with the analysis. \n",
        "\n",
        "**Phase 1:** You should start the exploration by first examining the shape and structure of your data. What dimensions/variables does it contain and how are the data values distributed? Are there any notable data quality issues? Find out if there are missing values in the data and think of how you can handle them. Are there any surprising relationships between the dimensions/variables? Make sure to perform sanity checks for patterns you expect to see! Note that it may be the case that after doing a bit of exploration in phase 1 you find that your data is not as interesting as you first thought. In such cases you might consider returning to Part 1 and identifying a different dataset to work with. Such iteration on choosing the dataset is common, but also time-consuming, so make sure you leave time in your schedule for this.\n",
        "\n",
        "**Phase 2:** Next, you should investigate your initial questions, as well as any new questions that arise during your exploration. For each question, create a visualization that might provide a useful answer. Then refine the visualization (by adding additional variables, changing the sort ordering or axis scales, filtering or subsetting data, etc.) to develop better perspectives explore unexpected observations, or sanity check your assumptions. You should repeat this process for each of your questions, and also feel free to revise your questions or branch off to explore new questions as the data warrants."
      ]
    },
    {
      "cell_type": "markdown",
      "metadata": {
        "id": "IUjuPZ9_CUkW"
      },
      "source": [
        "## **Final Deliverable**"
      ]
    },
    {
      "cell_type": "markdown",
      "metadata": {
        "id": "AroFpzSaCXDa"
      },
      "source": [
        "Your final submission should take the form of a blog post that consists of 10 or more captioned visualizations detailing your most important insights. You will also work on posting the blog to medium or your github website. Your “insights” can include important surprises or issues (such as data quality problems affecting your analysis) as well as responses to your analysis questions.\n",
        "\n",
        "Each visualization image should be a screenshot accompanied with a title and descriptive caption (1-4 sentences long) describing the insight(s) learned from that view. Provide sufficient detail for each caption such that anyone could read through your report and understand what you’ve learned. You are free, but not required, to annotate your images to draw attention to specific features of the data. \n",
        "\n",
        "Do not submit a blog cluttered with everything little thing you tried. Submit a clean report that highlights the most important “milestones” in your exploration, which can include initial overviews, identification of data quality problems, confirmations of key assumptions, and potential “discoveries”. Your blog should only present the final dataset you analyzed and should not describe any iterations on earlier datasets you might have initially explored."
      ]
    },
    {
      "cell_type": "markdown",
      "metadata": {
        "id": "XlvqVKO3CZxv"
      },
      "source": [
        "## **Data Sources**"
      ]
    },
    {
      "cell_type": "markdown",
      "metadata": {
        "id": "3tHXuSJ3CaiO"
      },
      "source": [
        "There are a variety of data sources available online. Here are some possible sources to consider. If you have any questions about whether your dataset is appropriate, please talk to the TAs.\n",
        "\n",
        "**Data is Plural** - Variety of datasets and sources covering many topics.\n",
        "\n",
        "https://data.gov - U.S. Government open datasets.\n",
        "\n",
        "U.S. Census Bureau - Census data - https://data.census.gov/\n",
        "\n",
        "Federal Elections Commission - Campaign finance and expenditures. - https://www.fec.gov/data/\n",
        "\n",
        "Federal Aviation Administration - FAA data - https://www.faa.gov/data_research/\n",
        "\n",
        "https://www.kaggle.com/\n",
        "\n",
        "https://archive.ics.uci.edu/ml/index.php\n",
        "\n",
        "https://github.com/awesomedata/awesome-public-datasets - Awesome Public Datasets - Variety of public datasets.\n",
        "\n",
        "Stanford Cable TV News Analyzer - We have recently released a tool that can be used to analyze who and what appears in the last decade of Cable TV News (i.e. CNN, Fox News, MSNBC). The site lets you download data as well which you could use to conduct further analysis. - https://tvnews.stanford.edu/data"
      ]
    },
    {
      "cell_type": "markdown",
      "metadata": {
        "id": "r1dkn1c9CtjY"
      },
      "source": [
        "### **Visualization Tool (matplotlib, seaborn, etc)**"
      ]
    },
    {
      "cell_type": "markdown",
      "metadata": {
        "id": "HDf8VHW7Cv2l"
      },
      "source": [
        "One goal of this assignment is for you to learn to use and evaluate the effectiveness of these packages. In addition to these packages, you are free to also use other visualization tools as you see fit, for example, you could also take a look at Tableau."
      ]
    },
    {
      "cell_type": "markdown",
      "metadata": {
        "id": "VlUMHuXCCzRa"
      },
      "source": [
        "### **Data Wrangling Tools**"
      ]
    },
    {
      "cell_type": "markdown",
      "metadata": {
        "id": "uPjA2VABC1fA"
      },
      "source": [
        "The data you choose may require reformatting, transformation or cleaning prior to visualization. You can use Pandas for data preparation. "
      ]
    },
    {
      "cell_type": "markdown",
      "metadata": {
        "id": "RG61l1mTC3ju"
      },
      "source": [
        "### **Grading**"
      ]
    },
    {
      "cell_type": "markdown",
      "metadata": {
        "id": "ESbDdwRzC5aM"
      },
      "source": [
        "Each submission will be graded based on both the analysis process and the included visualizations. Here are our grading criteria:\n",
        "\n",
        "**Appropriate Data Assessment (5):** Overview/understanding of the data is built from transformations and appropriate assessment of data quality. Poses clear questions.\n",
        "\n",
        "**Exploration Thoroughness (5):** Sufficient breadth of analysis, exploring questions in sufficient depth (with appropriate follow-up questions).\n",
        "\n",
        "**Documentation (Blog) (5):** Clear documentation of exploratory process, including clearly written, understandable captions that communicate primary insights.\n",
        "\n",
        "**Appropriate use of Numpy, Pandas, and Matplotlib (5)**  to ingest, clean, and present the data"
      ]
    },
    {
      "cell_type": "markdown",
      "metadata": {
        "id": "TJrX_ynfC7Pp"
      },
      "source": [
        "### **Submission Details**"
      ]
    },
    {
      "cell_type": "markdown",
      "metadata": {
        "id": "gM4CysyYC9dA"
      },
      "source": [
        "This is an individual assignment. You may not work in groups. The assignment is due on Friday (03/05/2021)\n",
        "\n",
        "To submit your assignment, download your notebook and zip all the necessary files(data files). Submit the zipped file to balckboard. Make sure the notebook and the zipped file is named in the format - EDA_LastName_FirstName. Be sure to include the link to access your blog in your notebook.\n",
        "\n",
        "Also include the link to your notebook in the submission. \n",
        "\n",
        "We will provide more details on the blog during the next week of class.\n",
        "\n",
        "**Note** - If the dataset is too large to be zipped and submitted on blackboard, only submit your notebook, add your dataset to your google drive and share a link to the file in your notebook."
      ]
    },
    {
      "cell_type": "code",
      "metadata": {
        "id": "YfqqWQStbsBO"
      },
      "source": [
        "# Link to blog is below\n",
        "https://armccoma.medium.com/eda-project-drew-mccomas-c96a0add97f4"
      ],
      "execution_count": null,
      "outputs": []
    },
    {
      "cell_type": "code",
      "metadata": {
        "id": "eZ4u9dWD9IyJ"
      },
      "source": [
        "import pandas as pd\n",
        "import numpy as np\n",
        "import seaborn as sn\n",
        "import matplotlib as mpl\n",
        "import matplotlib.pyplot as plt"
      ],
      "execution_count": 1,
      "outputs": []
    },
    {
      "cell_type": "code",
      "metadata": {
        "id": "i5WJg3e09Il0",
        "colab": {
          "base_uri": "https://localhost:8080/"
        },
        "outputId": "03b491c8-7459-40e6-fdc0-ee5790639bdf"
      },
      "source": [
        "#from google.colab import files\n",
        "#uploaded = files.upload()\n",
        "\n",
        "df = pd.read_csv(\"NFL Play by Play 2009-2018 (v5).csv\")\n",
        "#import locally through drive"
      ],
      "execution_count": 3,
      "outputs": [
        {
          "output_type": "stream",
          "text": [
            "/usr/local/lib/python3.7/dist-packages/IPython/core/interactiveshell.py:2718: DtypeWarning: Columns (42,166,167,174,175,178,179,182,183,188,189,190,191,203,204,205,231,232,233,238,240,241) have mixed types.Specify dtype option on import or set low_memory=False.\n",
            "  interactivity=interactivity, compiler=compiler, result=result)\n"
          ],
          "name": "stderr"
        }
      ]
    },
    {
      "cell_type": "code",
      "metadata": {
        "colab": {
          "base_uri": "https://localhost:8080/"
        },
        "id": "5DpQGhHy9IV3",
        "outputId": "3e7933b9-99d7-4a40-df5f-ff65cbfad6cb"
      },
      "source": [
        "df.shape"
      ],
      "execution_count": 50,
      "outputs": [
        {
          "output_type": "execute_result",
          "data": {
            "text/plain": [
              "(37736, 255)"
            ]
          },
          "metadata": {
            "tags": []
          },
          "execution_count": 50
        }
      ]
    },
    {
      "cell_type": "code",
      "metadata": {
        "colab": {
          "base_uri": "https://localhost:8080/",
          "height": 224
        },
        "id": "dH_IvGcbE72C",
        "outputId": "1b4bf359-d9ee-4948-8239-5e0c80972910"
      },
      "source": [
        "\n",
        "df49 = df[(df.posteam=='SF')]\n",
        "df49 = df49[['yardline_100', 'down', 'ydstogo', 'score_differential', 'play_type', 'pass_length', 'pass_location', 'run_location']]\n",
        "df49.head()"
      ],
      "execution_count": 51,
      "outputs": [
        {
          "output_type": "execute_result",
          "data": {
            "text/html": [
              "<div>\n",
              "<style scoped>\n",
              "    .dataframe tbody tr th:only-of-type {\n",
              "        vertical-align: middle;\n",
              "    }\n",
              "\n",
              "    .dataframe tbody tr th {\n",
              "        vertical-align: top;\n",
              "    }\n",
              "\n",
              "    .dataframe thead th {\n",
              "        text-align: right;\n",
              "    }\n",
              "</style>\n",
              "<table border=\"1\" class=\"dataframe\">\n",
              "  <thead>\n",
              "    <tr style=\"text-align: right;\">\n",
              "      <th></th>\n",
              "      <th>game_seconds_remaining</th>\n",
              "      <th>yardline_100</th>\n",
              "      <th>down</th>\n",
              "      <th>ydstogo</th>\n",
              "      <th>score_differential</th>\n",
              "      <th>play_type</th>\n",
              "      <th>pass_length</th>\n",
              "      <th>pass_location</th>\n",
              "      <th>run_location</th>\n",
              "    </tr>\n",
              "  </thead>\n",
              "  <tbody>\n",
              "    <tr>\n",
              "      <th>1721</th>\n",
              "      <td>3456.0</td>\n",
              "      <td>74.0</td>\n",
              "      <td>1.0</td>\n",
              "      <td>10.0</td>\n",
              "      <td>0.0</td>\n",
              "      <td>run</td>\n",
              "      <td>NaN</td>\n",
              "      <td>NaN</td>\n",
              "      <td>right</td>\n",
              "    </tr>\n",
              "    <tr>\n",
              "      <th>1722</th>\n",
              "      <td>3415.0</td>\n",
              "      <td>76.0</td>\n",
              "      <td>2.0</td>\n",
              "      <td>12.0</td>\n",
              "      <td>0.0</td>\n",
              "      <td>run</td>\n",
              "      <td>NaN</td>\n",
              "      <td>NaN</td>\n",
              "      <td>middle</td>\n",
              "    </tr>\n",
              "    <tr>\n",
              "      <th>1723</th>\n",
              "      <td>3376.0</td>\n",
              "      <td>79.0</td>\n",
              "      <td>3.0</td>\n",
              "      <td>15.0</td>\n",
              "      <td>0.0</td>\n",
              "      <td>pass</td>\n",
              "      <td>short</td>\n",
              "      <td>right</td>\n",
              "      <td>NaN</td>\n",
              "    </tr>\n",
              "    <tr>\n",
              "      <th>1724</th>\n",
              "      <td>3337.0</td>\n",
              "      <td>66.0</td>\n",
              "      <td>4.0</td>\n",
              "      <td>2.0</td>\n",
              "      <td>0.0</td>\n",
              "      <td>punt</td>\n",
              "      <td>NaN</td>\n",
              "      <td>NaN</td>\n",
              "      <td>NaN</td>\n",
              "    </tr>\n",
              "    <tr>\n",
              "      <th>1730</th>\n",
              "      <td>3184.0</td>\n",
              "      <td>36.0</td>\n",
              "      <td>1.0</td>\n",
              "      <td>10.0</td>\n",
              "      <td>0.0</td>\n",
              "      <td>pass</td>\n",
              "      <td>short</td>\n",
              "      <td>left</td>\n",
              "      <td>NaN</td>\n",
              "    </tr>\n",
              "  </tbody>\n",
              "</table>\n",
              "</div>"
            ],
            "text/plain": [
              "      game_seconds_remaining  yardline_100  down  ydstogo  score_differential  \\\n",
              "1721                  3456.0          74.0   1.0     10.0                 0.0   \n",
              "1722                  3415.0          76.0   2.0     12.0                 0.0   \n",
              "1723                  3376.0          79.0   3.0     15.0                 0.0   \n",
              "1724                  3337.0          66.0   4.0      2.0                 0.0   \n",
              "1730                  3184.0          36.0   1.0     10.0                 0.0   \n",
              "\n",
              "     play_type pass_length pass_location run_location  \n",
              "1721       run         NaN           NaN        right  \n",
              "1722       run         NaN           NaN       middle  \n",
              "1723      pass       short         right          NaN  \n",
              "1724      punt         NaN           NaN          NaN  \n",
              "1730      pass       short          left          NaN  "
            ]
          },
          "metadata": {
            "tags": []
          },
          "execution_count": 51
        }
      ]
    },
    {
      "cell_type": "code",
      "metadata": {
        "id": "Hesga5W_E7o8",
        "colab": {
          "base_uri": "https://localhost:8080/"
        },
        "outputId": "d0f295bb-f7ba-4ac8-9fea-eecf9d1e8f0b"
      },
      "source": [
        "def Full_Play(play):\n",
        "  play_type, pass_location,run_location = play  \n",
        "  if play_type == 'pass':\n",
        "    return str(play_type)+'_'+ str(pass_location)\n",
        "  else:\n",
        "    return str(play_type)+'_'+ str(run_location)\n",
        "\n",
        "df49['Full_Play'] = df49[['play_type','pass_location', 'run_location']].apply(Full_Play, axis=1)\n",
        "df49 = df49[(df49.Full_Play.isin(['pass_left', 'pass_middle','pass_right','run_left', 'run_middle', 'run_right']))]\n",
        "\n",
        "\n",
        "print(df49)"
      ],
      "execution_count": 57,
      "outputs": [
        {
          "output_type": "stream",
          "text": [
            "       game_seconds_remaining  yardline_100  down  ydstogo  \\\n",
            "1721                   3456.0          74.0   1.0     10.0   \n",
            "1722                   3415.0          76.0   2.0     12.0   \n",
            "1723                   3376.0          79.0   3.0     15.0   \n",
            "1730                   3184.0          36.0   1.0     10.0   \n",
            "1732                   3125.0          23.0   1.0     10.0   \n",
            "...                       ...           ...   ...      ...   \n",
            "36234                   191.0          50.0   1.0     10.0   \n",
            "36236                   185.0          47.0   2.0      7.0   \n",
            "36239                   180.0          50.0   3.0     10.0   \n",
            "36243                   146.0          33.0   1.0     10.0   \n",
            "36245                   119.0          27.0   2.0      4.0   \n",
            "\n",
            "       score_differential play_type pass_length pass_location run_location  \\\n",
            "1721                  0.0       run         NaN           NaN        right   \n",
            "1722                  0.0       run         NaN           NaN       middle   \n",
            "1723                  0.0      pass       short         right          NaN   \n",
            "1730                  0.0      pass       short          left          NaN   \n",
            "1732                  0.0       run         NaN           NaN        right   \n",
            "...                   ...       ...         ...           ...          ...   \n",
            "36234                15.0       run         NaN           NaN        right   \n",
            "36236                15.0       run         NaN           NaN       middle   \n",
            "36239                15.0      pass       short        middle          NaN   \n",
            "36243                15.0       run         NaN           NaN       middle   \n",
            "36245                15.0       run         NaN           NaN       middle   \n",
            "\n",
            "         Full_Play  \n",
            "1721     run_right  \n",
            "1722    run_middle  \n",
            "1723    pass_right  \n",
            "1730     pass_left  \n",
            "1732     run_right  \n",
            "...            ...  \n",
            "36234    run_right  \n",
            "36236   run_middle  \n",
            "36239  pass_middle  \n",
            "36243   run_middle  \n",
            "36245   run_middle  \n",
            "\n",
            "[708 rows x 10 columns]\n"
          ],
          "name": "stdout"
        }
      ]
    },
    {
      "cell_type": "code",
      "metadata": {
        "colab": {
          "base_uri": "https://localhost:8080/"
        },
        "id": "WIQFlD5PE7dp",
        "outputId": "804412bc-0b4f-4f70-83e0-a7e3de52a70c"
      },
      "source": [
        "\n",
        "fpcount=df49.groupby('Full_Play').count()\n",
        "fpsum =sum(fpcount.play_type)\n",
        "fpcount.play_type= fpcount.play_type * 100 / fpsum\n",
        "print(fpcount.play_type)\n",
        "\n",
        "\n",
        "#data = [27,10,21,13,25,15]\n",
        "#perc = data/data.sum()*100\n",
        "#df49.groupby([\"Full_Play\"]).count()/[[data]].sum()*100\n",
        "#df49['FP%'] = (df49['play_type'] / df49['play_type'].sum() * 100)\n",
        "# learned from example eda dfCity['yr_sold']=dfCity['dayhours'].apply(lambda x:x[:4]).astype(int)\n",
        "#df49[\"Full_Play\"].count() / df49[\"play_type\"].sum() * 100\n",
        "#df49[\"Full_Play\"] = df49[\"Full_Play\"].div(df49[\"Full_Play\"].sum(), axis=0).multiply(100)\n",
        "#df_pct = df49/df49[\"Full_Play\"].sum()*100"
      ],
      "execution_count": 58,
      "outputs": [
        {
          "output_type": "stream",
          "text": [
            "Full_Play\n",
            "pass_left      19.632768\n",
            "pass_middle    12.711864\n",
            "pass_right     27.966102\n",
            "run_left        9.322034\n",
            "run_middle     19.915254\n",
            "run_right      10.451977\n",
            "Name: play_type, dtype: float64\n"
          ],
          "name": "stdout"
        }
      ]
    },
    {
      "cell_type": "code",
      "metadata": {
        "colab": {
          "base_uri": "https://localhost:8080/",
          "height": 658
        },
        "id": "1I6Bt2zUqds5",
        "outputId": "aab25f52-6f98-4637-ca96-10b8e5fadeac"
      },
      "source": [
        "fpcount=df49.groupby('Full_Play').count()\n",
        "fpsum =sum(fpcount.play_type)\n",
        "fpcount.play_type= fpcount.play_type * 100 / fpsum\n",
        "print(fpcount.play_type)\n",
        "\n",
        "\n",
        "a = sn.factorplot(x= fpcount.index ,data=fpcount, y = 'play_type', kind = 'bar')\n",
        "# y = df49.count()['play_type']/df49.sum()['play_type']*100\n",
        "# estimator = lambda x:100 * x / float(x.sum())\n",
        "#y = 'Full_Play'/sum(\"Full_Play\")*100\n",
        "\n",
        "plt.title(\"Percentage of 49ers Full Plays\")\n",
        "plt.xlabel(\"Full Play\")\n",
        "plt.ylabel(\"Percent\")\n",
        "plt.xticks(rotation=90)"
      ],
      "execution_count": 59,
      "outputs": [
        {
          "output_type": "stream",
          "text": [
            "Full_Play\n",
            "pass_left      19.632768\n",
            "pass_middle    12.711864\n",
            "pass_right     27.966102\n",
            "run_left        9.322034\n",
            "run_middle     19.915254\n",
            "run_right      10.451977\n",
            "Name: play_type, dtype: float64\n"
          ],
          "name": "stdout"
        },
        {
          "output_type": "stream",
          "text": [
            "/usr/local/lib/python3.7/dist-packages/seaborn/categorical.py:3714: UserWarning: The `factorplot` function has been renamed to `catplot`. The original name will be removed in a future release. Please update your code. Note that the default `kind` in `factorplot` (`'point'`) has changed `'strip'` in `catplot`.\n",
            "  warnings.warn(msg)\n"
          ],
          "name": "stderr"
        },
        {
          "output_type": "execute_result",
          "data": {
            "text/plain": [
              "(array([0, 1, 2, 3, 4, 5]), <a list of 6 Text major ticklabel objects>)"
            ]
          },
          "metadata": {
            "tags": []
          },
          "execution_count": 59
        },
        {
          "output_type": "display_data",
          "data": {
            "image/png": "[encoded data removed]",
            "text/plain": [
              "<Figure size 360x360 with 1 Axes>"
            ]
          },
          "metadata": {
            "tags": [],
            "needs_background": "light"
          }
        }
      ]
    },
    {
      "cell_type": "code",
      "metadata": {
        "colab": {
          "base_uri": "https://localhost:8080/",
          "height": 658
        },
        "id": "DZp9NH9qqrt7",
        "outputId": "646ffcc5-0ace-4503-d36f-654980a38c91"
      },
      "source": [
        "\n",
        "newdf = df49[df49['ydstogo']<5]\n",
        "\n",
        "pd.set_option(\"display.max_columns\",None)\n",
        "\n",
        "#df49_5 = df49[\"ydstogo\"]>5,[\"Full_Play\"],[\"play_type\"]\n",
        "\n",
        "fpcount = newdf.groupby('Full_Play').count()\n",
        "fpsum =sum(fpcount.play_type)\n",
        "fpcount.play_type= fpcount.play_type * 100 / fpsum\n",
        "print(fpcount.play_type)\n",
        "\n",
        "\n",
        "b = sn.factorplot(x= fpcount.index ,data=fpcount, y = 'play_type', kind = 'bar')\n",
        "plt.title(\"Percentage of 49ers Full Plays\")\n",
        "plt.xlabel(\"Full Play\")\n",
        "plt.ylabel(\"Percent\")\n",
        "plt.xticks(rotation=90)"
      ],
      "execution_count": 60,
      "outputs": [
        {
          "output_type": "stream",
          "text": [
            "Full_Play\n",
            "pass_left      19.191919\n",
            "pass_middle    10.101010\n",
            "pass_right     22.222222\n",
            "run_left       11.111111\n",
            "run_middle     28.282828\n",
            "run_right       9.090909\n",
            "Name: play_type, dtype: float64\n"
          ],
          "name": "stdout"
        },
        {
          "output_type": "stream",
          "text": [
            "/usr/local/lib/python3.7/dist-packages/seaborn/categorical.py:3714: UserWarning: The `factorplot` function has been renamed to `catplot`. The original name will be removed in a future release. Please update your code. Note that the default `kind` in `factorplot` (`'point'`) has changed `'strip'` in `catplot`.\n",
            "  warnings.warn(msg)\n"
          ],
          "name": "stderr"
        },
        {
          "output_type": "execute_result",
          "data": {
            "text/plain": [
              "(array([0, 1, 2, 3, 4, 5]), <a list of 6 Text major ticklabel objects>)"
            ]
          },
          "metadata": {
            "tags": []
          },
          "execution_count": 60
        },
        {
          "output_type": "display_data",
          "data": {
            "image/png": "[encoded data removed]",
            "text/plain": [
              "<Figure size 360x360 with 1 Axes>"
            ]
          },
          "metadata": {
            "tags": [],
            "needs_background": "light"
          }
        }
      ]
    },
    {
      "cell_type": "code",
      "metadata": {
        "id": "xvyKVkd9qrnn",
        "colab": {
          "base_uri": "https://localhost:8080/",
          "height": 658
        },
        "outputId": "33eddd26-9a4d-4e81-8f97-327461e93a97"
      },
      "source": [
        "\n",
        "newdf = df49[df49[\"ydstogo\"]>=10]\n",
        "\n",
        "\n",
        "fpcount = newdf.groupby(\"Full_Play\").count()\n",
        "\n",
        "fpsum =sum(fpcount.play_type)\n",
        "fpcount.play_type= fpcount.play_type * 100 / fpsum\n",
        "print(fpcount.play_type)\n",
        "\n",
        "\n",
        "b = sn.factorplot(x= fpcount.index ,data=fpcount, y = 'play_type', kind = 'bar')\n",
        "plt.title(\"Percentage of 49ers Full Plays\")\n",
        "plt.xlabel(\"Full Play\")\n",
        "plt.ylabel(\"Percent\")\n",
        "plt.xticks(rotation=90)\n"
      ],
      "execution_count": 61,
      "outputs": [
        {
          "output_type": "stream",
          "text": [
            "Full_Play\n",
            "pass_left      21.396396\n",
            "pass_middle    12.612613\n",
            "pass_right     27.702703\n",
            "run_left        9.009009\n",
            "run_middle     18.693694\n",
            "run_right      10.585586\n",
            "Name: play_type, dtype: float64\n"
          ],
          "name": "stdout"
        },
        {
          "output_type": "stream",
          "text": [
            "/usr/local/lib/python3.7/dist-packages/seaborn/categorical.py:3714: UserWarning: The `factorplot` function has been renamed to `catplot`. The original name will be removed in a future release. Please update your code. Note that the default `kind` in `factorplot` (`'point'`) has changed `'strip'` in `catplot`.\n",
            "  warnings.warn(msg)\n"
          ],
          "name": "stderr"
        },
        {
          "output_type": "execute_result",
          "data": {
            "text/plain": [
              "(array([0, 1, 2, 3, 4, 5]), <a list of 6 Text major ticklabel objects>)"
            ]
          },
          "metadata": {
            "tags": []
          },
          "execution_count": 61
        },
        {
          "output_type": "display_data",
          "data": {
            "image/png": "[encoded data removed]",
            "text/plain": [
              "<Figure size 360x360 with 1 Axes>"
            ]
          },
          "metadata": {
            "tags": [],
            "needs_background": "light"
          }
        }
      ]
    },
    {
      "cell_type": "code",
      "metadata": {
        "id": "iSET_DG_wFqo"
      },
      "source": [
        ""
      ],
      "execution_count": null,
      "outputs": []
    },
    {
      "cell_type": "code",
      "metadata": {
        "id": "Qn-jFX1WyMbp",
        "colab": {
          "base_uri": "https://localhost:8080/",
          "height": 658
        },
        "outputId": "d211bb13-a102-4383-d6f4-fbd5d50e560c"
      },
      "source": [
        "d1df = df49[df49[\"down\"]== 1.0]\n",
        "\n",
        "\n",
        "\n",
        "fpcount = d1df.groupby('Full_Play').count()\n",
        "fpsum =sum(fpcount.play_type)\n",
        "fpcount.play_type= fpcount.play_type * 100 / fpsum\n",
        "print(fpcount.play_type)\n",
        "\n",
        "\n",
        "b = sn.factorplot(x= fpcount.index ,data=fpcount, y = 'play_type', kind = 'bar')\n",
        "plt.title(\"Percentage of 49ers Full Plays\")\n",
        "plt.xlabel(\"Full Play\")\n",
        "plt.ylabel(\"Percent\")\n",
        "plt.xticks(rotation=90)"
      ],
      "execution_count": 62,
      "outputs": [
        {
          "output_type": "stream",
          "text": [
            "Full_Play\n",
            "pass_left      16.943522\n",
            "pass_middle    12.292359\n",
            "pass_right     22.591362\n",
            "run_left       12.624585\n",
            "run_middle     22.923588\n",
            "run_right      12.624585\n",
            "Name: play_type, dtype: float64\n"
          ],
          "name": "stdout"
        },
        {
          "output_type": "stream",
          "text": [
            "/usr/local/lib/python3.7/dist-packages/seaborn/categorical.py:3714: UserWarning: The `factorplot` function has been renamed to `catplot`. The original name will be removed in a future release. Please update your code. Note that the default `kind` in `factorplot` (`'point'`) has changed `'strip'` in `catplot`.\n",
            "  warnings.warn(msg)\n"
          ],
          "name": "stderr"
        },
        {
          "output_type": "execute_result",
          "data": {
            "text/plain": [
              "(array([0, 1, 2, 3, 4, 5]), <a list of 6 Text major ticklabel objects>)"
            ]
          },
          "metadata": {
            "tags": []
          },
          "execution_count": 62
        },
        {
          "output_type": "display_data",
          "data": {
            "image/png": "[encoded data removed]",
            "text/plain": [
              "<Figure size 360x360 with 1 Axes>"
            ]
          },
          "metadata": {
            "tags": [],
            "needs_background": "light"
          }
        }
      ]
    },
    {
      "cell_type": "code",
      "metadata": {
        "id": "IQfLLVmwE7J7",
        "colab": {
          "base_uri": "https://localhost:8080/",
          "height": 658
        },
        "outputId": "616a8b50-0ffe-4c9a-92f7-4c40c9013b33"
      },
      "source": [
        "d2df = df49[df49[\"down\"] == 2.0]\n",
        "\n",
        "fpcount = d2df.groupby('Full_Play').count()\n",
        "fpsum =sum(fpcount.play_type)\n",
        "fpcount.play_type= fpcount.play_type * 100 / fpsum\n",
        "print(fpcount.play_type)\n",
        "\n",
        "\n",
        "b = sn.factorplot(x= fpcount.index ,data=fpcount, y = 'play_type', kind = 'bar')\n",
        "plt.title(\"Percentage of 49ers Full Plays\")\n",
        "plt.xlabel(\"Full Play\")\n",
        "plt.ylabel(\"Percent\")\n",
        "plt.xticks(rotation=90)\n",
        "\n"
      ],
      "execution_count": 64,
      "outputs": [
        {
          "output_type": "stream",
          "text": [
            "Full_Play\n",
            "pass_left      17.372881\n",
            "pass_middle     9.322034\n",
            "pass_right     30.508475\n",
            "run_left        8.474576\n",
            "run_middle     23.728814\n",
            "run_right      10.593220\n",
            "Name: play_type, dtype: float64\n"
          ],
          "name": "stdout"
        },
        {
          "output_type": "stream",
          "text": [
            "/usr/local/lib/python3.7/dist-packages/seaborn/categorical.py:3714: UserWarning: The `factorplot` function has been renamed to `catplot`. The original name will be removed in a future release. Please update your code. Note that the default `kind` in `factorplot` (`'point'`) has changed `'strip'` in `catplot`.\n",
            "  warnings.warn(msg)\n"
          ],
          "name": "stderr"
        },
        {
          "output_type": "execute_result",
          "data": {
            "text/plain": [
              "(array([0, 1, 2, 3, 4, 5]), <a list of 6 Text major ticklabel objects>)"
            ]
          },
          "metadata": {
            "tags": []
          },
          "execution_count": 64
        },
        {
          "output_type": "display_data",
          "data": {
            "image/png": "[encoded data removed]",
            "text/plain": [
              "<Figure size 360x360 with 1 Axes>"
            ]
          },
          "metadata": {
            "tags": [],
            "needs_background": "light"
          }
        }
      ]
    },
    {
      "cell_type": "code",
      "metadata": {
        "id": "kSupuKx3Plmk",
        "colab": {
          "base_uri": "https://localhost:8080/",
          "height": 656
        },
        "outputId": "49067de5-5020-4eca-f56d-60111e4a187e"
      },
      "source": [
        "d3df = df49[df49[\"down\"] == 3.0]\n",
        "\n",
        "fpcount = d3df.groupby('Full_Play').count()\n",
        "fpsum =sum(fpcount.play_type)\n",
        "fpcount.play_type= fpcount.play_type * 100 / fpsum\n",
        "print(fpcount.play_type)\n",
        "\n",
        "\n",
        "b = sn.factorplot(x= fpcount.index ,data=fpcount, y = 'play_type', kind = 'bar')\n",
        "plt.title(\"Percentage of 49ers Full Plays\")\n",
        "plt.xlabel(\"Full Play\")\n",
        "plt.ylabel(\"Percent\")\n",
        "plt.xticks(rotation=90)"
      ],
      "execution_count": 65,
      "outputs": [
        {
          "output_type": "stream",
          "text": [
            "Full_Play\n",
            "pass_left      26.582278\n",
            "pass_middle    18.987342\n",
            "pass_right     33.544304\n",
            "run_left        4.430380\n",
            "run_middle      9.493671\n",
            "run_right       6.962025\n",
            "Name: play_type, dtype: float64\n"
          ],
          "name": "stdout"
        },
        {
          "output_type": "stream",
          "text": [
            "/usr/local/lib/python3.7/dist-packages/seaborn/categorical.py:3714: UserWarning: The `factorplot` function has been renamed to `catplot`. The original name will be removed in a future release. Please update your code. Note that the default `kind` in `factorplot` (`'point'`) has changed `'strip'` in `catplot`.\n",
            "  warnings.warn(msg)\n"
          ],
          "name": "stderr"
        },
        {
          "output_type": "execute_result",
          "data": {
            "text/plain": [
              "(array([0, 1, 2, 3, 4, 5]), <a list of 6 Text major ticklabel objects>)"
            ]
          },
          "metadata": {
            "tags": []
          },
          "execution_count": 65
        },
        {
          "output_type": "display_data",
          "data": {
            "image/png": "[encoded data removed]",
            "text/plain": [
              "<Figure size 360x360 with 1 Axes>"
            ]
          },
          "metadata": {
            "tags": [],
            "needs_background": "light"
          }
        }
      ]
    },
    {
      "cell_type": "code",
      "metadata": {
        "id": "tEFNdhqd9Hf1",
        "colab": {
          "base_uri": "https://localhost:8080/",
          "height": 640
        },
        "outputId": "dd193f41-3e54-415b-af5d-002bc52b1ee4"
      },
      "source": [
        "d4df = df49[df49[\"down\"] == 4.0]\n",
        "\n",
        "fpcount = d4df.groupby('Full_Play').count()\n",
        "fpsum =sum(fpcount.play_type)\n",
        "fpcount.play_type= fpcount.play_type * 100 / fpsum\n",
        "print(fpcount.play_type)\n",
        "\n",
        "\n",
        "b = sn.factorplot(x= fpcount.index ,data=fpcount, y = 'play_type', kind = 'bar')\n",
        "plt.title(\"Percentage of 49ers Full Plays\")\n",
        "plt.xlabel(\"Full Play\")\n",
        "plt.ylabel(\"Percent\")\n",
        "plt.xticks(rotation=90)"
      ],
      "execution_count": 66,
      "outputs": [
        {
          "output_type": "stream",
          "text": [
            "Full_Play\n",
            "pass_left      38.461538\n",
            "pass_middle     7.692308\n",
            "pass_right     38.461538\n",
            "run_left        7.692308\n",
            "run_middle      7.692308\n",
            "Name: play_type, dtype: float64\n"
          ],
          "name": "stdout"
        },
        {
          "output_type": "stream",
          "text": [
            "/usr/local/lib/python3.7/dist-packages/seaborn/categorical.py:3714: UserWarning: The `factorplot` function has been renamed to `catplot`. The original name will be removed in a future release. Please update your code. Note that the default `kind` in `factorplot` (`'point'`) has changed `'strip'` in `catplot`.\n",
            "  warnings.warn(msg)\n"
          ],
          "name": "stderr"
        },
        {
          "output_type": "execute_result",
          "data": {
            "text/plain": [
              "(array([0, 1, 2, 3, 4]), <a list of 5 Text major ticklabel objects>)"
            ]
          },
          "metadata": {
            "tags": []
          },
          "execution_count": 66
        },
        {
          "output_type": "display_data",
          "data": {
            "image/png": "[encoded data removed]",
            "text/plain": [
              "<Figure size 360x360 with 1 Axes>"
            ]
          },
          "metadata": {
            "tags": [],
            "needs_background": "light"
          }
        }
      ]
    }
  ]
}